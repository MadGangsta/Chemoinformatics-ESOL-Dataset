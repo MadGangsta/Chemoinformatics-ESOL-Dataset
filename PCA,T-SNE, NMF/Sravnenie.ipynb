{
 "cells": [
  {
   "cell_type": "markdown",
   "id": "5d0a5824-d58b-47ba-890a-05842c5e89e6",
   "metadata": {
    "tags": []
   },
   "source": [
    "# Сравнение различных методов сжатия"
   ]
  },
  {
   "cell_type": "code",
   "execution_count": 3,
   "id": "d5379c16-9c44-44a6-b826-96e72334182d",
   "metadata": {},
   "outputs": [],
   "source": [
    "import numpy as np\n",
    "import pandas as pd\n",
    "import matplotlib.pyplot as plt\n",
    "from sklearn.metrics import r2_score, mean_squared_error, mean_absolute_error\n",
    "from rdkit import Chem\n",
    "from rdkit.Chem import PandasTools\n",
    "from rdkit.Chem import AllChem\n",
    "from rdkit import rdBase, DataStructs\n",
    "from sklearn.decomposition import PCA\n",
    "import seaborn as sns\n",
    "from sklearn import linear_model\n",
    "from sklearn.ensemble import RandomForestRegressor\n",
    "from sklearn.ensemble import GradientBoostingRegressor\n",
    "\n",
    "DATA_PATH = 'project1/'\n",
    "df = pd.read_csv(DATA_PATH+'delaney-processed.csv')\n",
    "PandasTools.AddMoleculeColumnToFrame(df,'smiles','molec')"
   ]
  },
  {
   "cell_type": "markdown",
   "id": "df81e20d-ba76-48bc-a0af-38e77e2b17ef",
   "metadata": {},
   "source": [
    "# Разделение датасета"
   ]
  },
  {
   "cell_type": "code",
   "execution_count": 4,
   "id": "31c396dc-1fbb-42e4-9d82-d1dc7f0ab584",
   "metadata": {},
   "outputs": [],
   "source": [
    "def razdelit_dataset(dataframe):\n",
    "    train_df = dataframe.sample(frac=.8, random_state=43)\n",
    "    test_df = dataframe[~dataframe.index.isin(train_df.index)]\n",
    "    return train_df, test_df"
   ]
  },
  {
   "cell_type": "markdown",
   "id": "75cbb420-e1ed-4e54-8e4c-440ea5feaf53",
   "metadata": {},
   "source": [
    "# Создаем Morgan Fingerprint(MF)"
   ]
  },
  {
   "cell_type": "code",
   "execution_count": 5,
   "id": "8d5ca219-13ba-4907-a27d-275eda76ec3d",
   "metadata": {},
   "outputs": [],
   "source": [
    "def m_f(dataframe,k,n):\n",
    "    MF_list=[]\n",
    "    for i in range(len(dataframe[['molec']])):\n",
    "      mol = AllChem.GetMorganFingerprintAsBitVect((dataframe.loc[i,'molec']), k, nBits=n)\n",
    "      MF_list.append(mol)\n",
    "    MF_ar = np.asanyarray(MF_list)\n",
    "    return pd.DataFrame(MF_ar)\n",
    "k=2\n",
    "\n",
    "df4096,df2048,df1024,df512 = m_f(df,k,4096),m_f(df,k,2048),m_f(df,k,1024),m_f(df,k,512)"
   ]
  },
  {
   "cell_type": "markdown",
   "id": "cc398fa9-8117-4d68-929c-70fbfda6695a",
   "metadata": {},
   "source": [
    "# Используем RandomForest на MF"
   ]
  },
  {
   "cell_type": "code",
   "execution_count": 6,
   "id": "a89e5a8d-b8ae-49ee-a9ad-79de67f4e3b4",
   "metadata": {},
   "outputs": [],
   "source": [
    "def ForestMF(df_MF,dataframe):\n",
    "    depend = 'measured log solubility in mols per litre'\n",
    "    df_MF[depend] = dataframe[depend]\n",
    "    razdelit_dataset(df_MF)\n",
    "\n",
    "    train_df_MF,test_df_MF = [],[]\n",
    "    train_df_MF, test_df_MF = razdelit_dataset(df_MF)\n",
    "    \n",
    "    train_y_MF = np.asanyarray(train_df_MF[[depend]])\n",
    "    test_y_MF = np.asanyarray(test_df_MF[[depend]])\n",
    "\n",
    "    train_df_MF = train_df_MF.drop(columns=depend)\n",
    "    test_df_MF = test_df_MF.drop(columns=depend)\n",
    "\n",
    "    train_x_MF = np.asanyarray(train_df_MF)\n",
    "    test_x_MF = np.asanyarray(test_df_MF)\n",
    "\n",
    "    regr_MF = RandomForestRegressor(max_depth=9,random_state=0)\n",
    "    regr_MF.fit(train_x_MF, train_y_MF.ravel())\n",
    "    \n",
    "    test_Y_MF = regr_MF.predict(test_x_MF)\n",
    "    return r2_score(test_y_MF,test_Y_MF)\n"
   ]
  },
  {
   "cell_type": "code",
   "execution_count": 7,
   "id": "b7f64b41-e8a7-48c9-9664-f55fc20bdceb",
   "metadata": {},
   "outputs": [],
   "source": [
    "from sklearn.decomposition import PCA\n",
    "from sklearn.manifold import TSNE\n",
    "from sklearn.decomposition import NMF"
   ]
  },
  {
   "cell_type": "markdown",
   "id": "e7a9d89b-115b-4f8e-8b42-988a68144e22",
   "metadata": {},
   "source": [
    "# Используем сжатие PCA"
   ]
  },
  {
   "cell_type": "code",
   "execution_count": 8,
   "id": "7dfbf6c9-5522-45e1-9b6f-4248baac1d67",
   "metadata": {},
   "outputs": [
    {
     "name": "stdout",
     "output_type": "stream",
     "text": [
      "0.566823861864618\n"
     ]
    }
   ],
   "source": [
    "def PCA_A(MF_ar,com,df):\n",
    "    depend = 'measured log solubility in mols per litre'\n",
    "    if depend in MF_ar:\n",
    "         MF_ar = MF_ar.drop(columns=depend)\n",
    "    MF_ar = np.asanyarray(MF_ar)\n",
    "    train_df, test_df = razdelit_dataset(df)\n",
    "    train_yMF,test_yMF = np.asanyarray(train_df[depend]), np.asanyarray(test_df[depend])\n",
    "    \n",
    "    pca = PCA(n_components=com)\n",
    "    crds_MF_pca = pca.fit_transform(MF_ar)\n",
    "    crds_dfMF_pca = pd.DataFrame(crds_MF_pca)\n",
    "    \n",
    "    train_crds_dfMF,test_crds_dfMF = razdelit_dataset(crds_dfMF_pca)\n",
    "\n",
    "    train_X_pca_MF = np.asanyarray(train_crds_dfMF)\n",
    "    test_X_pca_MF = np.asanyarray(test_crds_dfMF)\n",
    "    \n",
    "    regrMF_crds = RandomForestRegressor(max_depth=9)\n",
    "    regrMF_crds.fit(train_X_pca_MF, train_yMF.ravel())\n",
    "    \n",
    "    test_Y_MF_crds = regrMF_crds.predict(test_X_pca_MF)\n",
    "    return r2_score(test_yMF,test_Y_MF_crds)\n",
    "print(PCA_A(df4096,100,df))"
   ]
  },
  {
   "cell_type": "markdown",
   "id": "68b8ee6c-e40c-436e-b318-273872a533af",
   "metadata": {},
   "source": [
    "# Используем сжатие T-SNE"
   ]
  },
  {
   "cell_type": "code",
   "execution_count": 9,
   "id": "fb21839e-53c5-4313-bd63-28e1f5eb2d06",
   "metadata": {},
   "outputs": [
    {
     "name": "stdout",
     "output_type": "stream",
     "text": [
      "0.3338339739916132\n"
     ]
    }
   ],
   "source": [
    "def T_SNE_A(MF_ar,com,df):\n",
    "    depend = 'measured log solubility in mols per litre'\n",
    "    if depend in MF_ar:\n",
    "         MF_ar = MF_ar.drop(columns=depend)\n",
    "    MF_ar = np.asanyarray(MF_ar)\n",
    "    train_df, test_df = razdelit_dataset(df)\n",
    "    train_yMF,test_yMF = np.asanyarray(train_df[depend]), np.asanyarray(test_df[depend])\n",
    "    \n",
    "    t_sne = TSNE(n_components=3)\n",
    "    crds_MF_T_SNE = t_sne.fit_transform(MF_ar)\n",
    "    crds_dfMF_T_SNE = pd.DataFrame(crds_MF_T_SNE)\n",
    "    \n",
    "    train_crds_dfMF,test_crds_dfMF = razdelit_dataset(crds_dfMF_T_SNE)\n",
    "\n",
    "    train_X_T_SNE_MF = np.asanyarray(train_crds_dfMF)\n",
    "    test_X_T_SNE_MF = np.asanyarray(test_crds_dfMF)\n",
    "    \n",
    "    regrMF_crds = RandomForestRegressor(max_depth=9)\n",
    "    regrMF_crds.fit(train_X_T_SNE_MF, train_yMF.ravel())\n",
    "    \n",
    "    test_Y_MF_crds = regrMF_crds.predict(test_X_T_SNE_MF)\n",
    "    return r2_score(test_yMF,test_Y_MF_crds)\n",
    "print(T_SNE_A(df4096,3,df))"
   ]
  },
  {
   "cell_type": "markdown",
   "id": "df1f7495-e782-4987-9b02-49f25a251fe3",
   "metadata": {},
   "source": [
    "# Используем сжатие NMF"
   ]
  },
  {
   "cell_type": "code",
   "execution_count": 10,
   "id": "a787546e-3aed-4670-8f73-ee69597045bd",
   "metadata": {},
   "outputs": [
    {
     "name": "stdout",
     "output_type": "stream",
     "text": [
      "0.5092363155700702\n"
     ]
    }
   ],
   "source": [
    "def NMF_A(MF_ar,com,df):\n",
    "    depend = 'measured log solubility in mols per litre'\n",
    "    if depend in MF_ar:\n",
    "         MF_ar = MF_ar.drop(columns=depend)\n",
    "    MF_ar = np.asanyarray(MF_ar)\n",
    "    train_df, test_df = razdelit_dataset(df)\n",
    "    train_yMF,test_yMF = np.asanyarray(train_df[depend]), np.asanyarray(test_df[depend])\n",
    "    \n",
    "    nmf = NMF(n_components=com)\n",
    "    crds_MF_NMF = nmf.fit_transform(MF_ar)\n",
    "    crds_dfMF_NMF = pd.DataFrame(crds_MF_NMF)\n",
    "    \n",
    "    train_crds_dfMF,test_crds_dfMF = razdelit_dataset(crds_dfMF_NMF)\n",
    "\n",
    "    train_X_NMF_MF = np.asanyarray(train_crds_dfMF)\n",
    "    test_X_NMF_MF = np.asanyarray(test_crds_dfMF)\n",
    "    \n",
    "    regrMF_crds = RandomForestRegressor(max_depth=9)\n",
    "    regrMF_crds.fit(train_X_NMF_MF, train_yMF.ravel())\n",
    "    \n",
    "    test_Y_MF_crds = regrMF_crds.predict(test_X_NMF_MF)\n",
    "    return r2_score(test_yMF,test_Y_MF_crds)\n",
    "print(NMF_A(df4096,100,df))"
   ]
  },
  {
   "cell_type": "markdown",
   "id": "94575b22-5cba-41f7-a489-f914c3bc8b02",
   "metadata": {},
   "source": [
    "# Сравнение результатов"
   ]
  },
  {
   "cell_type": "code",
   "execution_count": 17,
   "id": "2b671c9c-e42b-46b1-8911-1fa1a18043a6",
   "metadata": {},
   "outputs": [],
   "source": [
    "met = ['Random_Forest','PCA','t-sne','NMF']\n",
    "\n",
    "a512 = [ForestMF(df4096,df)*100,PCA_A(df4096,100,df)*100,T_SNE_A(df4096,100,df)*100,NMF_A(df4096,100,df)*100]\n",
    "a1024 = [ForestMF(df2048,df)*100,PCA_A(df2048,100,df)*100,T_SNE_A(df2048,100,df)*100,NMF_A(df2048,100,df)*100]\n",
    "a2048 = [ForestMF(df1024,df)*100,PCA_A(df1024,100,df)*100,T_SNE_A(df1024,100,df)*100,NMF_A(df1024,100,df)*100]\n",
    "a4096 = [ForestMF(df512,df)*100,PCA_A(df512,100,df)*100,T_SNE_A(df512,100,df)*100,NMF_A(df512,100,df)*100]\n",
    "df_final = pd.DataFrame({'Methods':met,'512':a512,'1024':a1024,'2048':a2048,'4096':a4096})"
   ]
  },
  {
   "cell_type": "code",
   "execution_count": 18,
   "id": "5dd3b4ba-a86a-4601-a000-0d5f08cf2552",
   "metadata": {},
   "outputs": [
    {
     "data": {
      "text/html": [
       "<div>\n",
       "<style scoped>\n",
       "    .dataframe tbody tr th:only-of-type {\n",
       "        vertical-align: middle;\n",
       "    }\n",
       "\n",
       "    .dataframe tbody tr th {\n",
       "        vertical-align: top;\n",
       "    }\n",
       "\n",
       "    .dataframe thead th {\n",
       "        text-align: right;\n",
       "    }\n",
       "</style>\n",
       "<table border=\"1\" class=\"dataframe\">\n",
       "  <thead>\n",
       "    <tr style=\"text-align: right;\">\n",
       "      <th></th>\n",
       "      <th>Methods</th>\n",
       "      <th>512</th>\n",
       "      <th>1024</th>\n",
       "      <th>2048</th>\n",
       "      <th>4096</th>\n",
       "    </tr>\n",
       "  </thead>\n",
       "  <tbody>\n",
       "    <tr>\n",
       "      <th>0</th>\n",
       "      <td>Random_Forest</td>\n",
       "      <td>56.546963</td>\n",
       "      <td>58.247201</td>\n",
       "      <td>59.290230</td>\n",
       "      <td>56.579341</td>\n",
       "    </tr>\n",
       "    <tr>\n",
       "      <th>1</th>\n",
       "      <td>PCA</td>\n",
       "      <td>56.979886</td>\n",
       "      <td>58.019152</td>\n",
       "      <td>61.046089</td>\n",
       "      <td>54.247764</td>\n",
       "    </tr>\n",
       "    <tr>\n",
       "      <th>2</th>\n",
       "      <td>t-sne</td>\n",
       "      <td>30.738670</td>\n",
       "      <td>28.186172</td>\n",
       "      <td>35.511978</td>\n",
       "      <td>29.472313</td>\n",
       "    </tr>\n",
       "    <tr>\n",
       "      <th>3</th>\n",
       "      <td>NMF</td>\n",
       "      <td>51.036191</td>\n",
       "      <td>53.225508</td>\n",
       "      <td>47.478637</td>\n",
       "      <td>49.815647</td>\n",
       "    </tr>\n",
       "  </tbody>\n",
       "</table>\n",
       "</div>"
      ],
      "text/plain": [
       "         Methods        512       1024       2048       4096\n",
       "0  Random_Forest  56.546963  58.247201  59.290230  56.579341\n",
       "1            PCA  56.979886  58.019152  61.046089  54.247764\n",
       "2          t-sne  30.738670  28.186172  35.511978  29.472313\n",
       "3            NMF  51.036191  53.225508  47.478637  49.815647"
      ]
     },
     "execution_count": 18,
     "metadata": {},
     "output_type": "execute_result"
    }
   ],
   "source": [
    "df_final"
   ]
  },
  {
   "cell_type": "code",
   "execution_count": null,
   "id": "a4f78121-3a52-4619-9d83-d0e3b24d7ff9",
   "metadata": {},
   "outputs": [],
   "source": []
  },
  {
   "cell_type": "code",
   "execution_count": null,
   "id": "cbe92566-081c-4186-8320-2142e37ecd36",
   "metadata": {},
   "outputs": [],
   "source": []
  }
 ],
 "metadata": {
  "kernelspec": {
   "display_name": "Python 3 (ipykernel)",
   "language": "python",
   "name": "python3"
  },
  "language_info": {
   "codemirror_mode": {
    "name": "ipython",
    "version": 3
   },
   "file_extension": ".py",
   "mimetype": "text/x-python",
   "name": "python",
   "nbconvert_exporter": "python",
   "pygments_lexer": "ipython3",
   "version": "3.8.12"
  }
 },
 "nbformat": 4,
 "nbformat_minor": 5
}
